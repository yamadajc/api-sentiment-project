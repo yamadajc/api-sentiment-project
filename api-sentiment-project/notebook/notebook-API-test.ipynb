{
 "cells": [
  {
   "cell_type": "markdown",
   "id": "operational-grant",
   "metadata": {},
   "source": [
    "# API Pruebas de funcionalidad "
   ]
  },
  {
   "cell_type": "markdown",
   "id": "confirmed-houston",
   "metadata": {},
   "source": [
    "El objetivo de este notebook es el de verificar el correcto funcionamiento de las distintas llamadas a las distintas secciones de la api \"ApiSiente\".  Ademas se indican los distintos metodos post, como la edicion o la eliminacion que he preferido nombrar solo en este documento."
   ]
  },
  {
   "cell_type": "code",
   "execution_count": 2,
   "id": "assured-concert",
   "metadata": {},
   "outputs": [],
   "source": [
    "import requests"
   ]
  },
  {
   "cell_type": "code",
   "execution_count": 8,
   "id": "endless-skiing",
   "metadata": {},
   "outputs": [
    {
     "data": {
      "text/plain": [
       "<Response [200]>"
      ]
     },
     "execution_count": 8,
     "metadata": {},
     "output_type": "execute_result"
    }
   ],
   "source": [
    "res = requests.get(\"http://127.0.0.1:5000/\")\n",
    "res"
   ]
  },
  {
   "cell_type": "markdown",
   "id": "returning-mongolia",
   "metadata": {},
   "source": [
    "#### listar "
   ]
  },
  {
   "cell_type": "markdown",
   "id": "horizontal-arrival",
   "metadata": {},
   "source": [
    "listado de personaje \n"
   ]
  },
  {
   "cell_type": "code",
   "execution_count": 25,
   "id": "tribal-fortune",
   "metadata": {},
   "outputs": [
    {
     "data": {
      "text/plain": [
       "{'Samantha Vallejo-Nagera': 'juez',\n",
       " 'Josie': 'participante',\n",
       " 'Osiris': 'participante',\n",
       " 'Celia Villalobos': 'participante',\n",
       " 'Henar': 'participante',\n",
       " 'Jordi Cruz': 'juez',\n",
       " 'Pepe Rodriguez': 'juez',\n",
       " 'Golria': 'participante',\n",
       " 'Valentin': 'participante',\n",
       " 'Aitana': 'participante',\n",
       " 'Aleix': 'participante',\n",
       " 'Natalia': 'participante',\n",
       " 'Jeancha': 'participante',\n",
       " 'Odku': 'participante'}"
      ]
     },
     "execution_count": 25,
     "metadata": {},
     "output_type": "execute_result"
    }
   ],
   "source": [
    "section = \"character\"\n",
    "\n",
    "res = requests.get(\"http://127.0.0.1:5000/\"+section)\n",
    "res.json()"
   ]
  },
  {
   "cell_type": "markdown",
   "id": "frozen-formation",
   "metadata": {},
   "source": [
    "listado de frase"
   ]
  },
  {
   "cell_type": "code",
   "execution_count": 24,
   "id": "green-integration",
   "metadata": {},
   "outputs": [
    {
     "data": {
      "text/plain": [
       "{'Josie': 'Me siento Chenoa por arriba, Bisbal por abajo, año 2000',\n",
       " 'Osiris': 'Mira que rico el chocolate negro mami',\n",
       " 'Henar': ' Ahora me estoy cnetrando un poco mas en la cocina antes que estar ligando con los chicos o las chicas ',\n",
       " 'Pepe Rodriguez': 'Aitana tu plato esta fatal',\n",
       " 'Golria': 'Madre nos van a dejar pelados',\n",
       " 'Valentin': 'Aqui se opican mas que el ajo',\n",
       " 'Aitana': 'Como me hace eso si es mi amiga ',\n",
       " 'Aleix': 'A carlos le quito la carne que es muy estratega',\n",
       " 'Samira': 'Voy a robar a Natalia que me da malas vibraciones',\n",
       " 'Carlos': 'No voy a decir nada porque genero malas vibraciones',\n",
       " 'Samantha Vallejo-Nagera': 'Natalia esto no vale nada',\n",
       " 'Jordi Cruz': 'Carlos con esto no llegas a la final',\n",
       " 'Natalia': 'Lo unico que me vale es la tranquilidad mental que tengo y Samira me la ha quitado',\n",
       " 'Jeancha': 'Esto es muy fuerte'}"
      ]
     },
     "execution_count": 24,
     "metadata": {},
     "output_type": "execute_result"
    }
   ],
   "source": [
    "section = \"masterchef\"\n",
    "\n",
    "res = requests.get(\"http://127.0.0.1:5000/\"+section)\n",
    "res.json()"
   ]
  },
  {
   "cell_type": "markdown",
   "id": "frank-account",
   "metadata": {},
   "source": [
    "listado de tweet"
   ]
  },
  {
   "cell_type": "code",
   "execution_count": 28,
   "id": "legal-intensity",
   "metadata": {
    "collapsed": true
   },
   "outputs": [
    {
     "data": {
      "text/plain": [
       "{'No tengo ni idea de marchas o pasos, pero esto me parece simplemente precioso y quiero vivirlo ya en persona.': 'Valentin',\n",
       " 'Tendríamos que competir con países cuya industria está totalmente asentada  como Alemania y emergentes que nos barrerían en costes como Europa del Este. El sol y playa que desprecian con tal vehemencia es una diferenciación única, que sí es una ventaja competitiva. ¡Cabeza!': 'Valentin',\n",
       " \"Cosa aparte es que podamos (Y debamos) potenciar, mediante la innovación, nuestras fortalezas y ventajas, así como nuestros sectores clave. Gastro-alimentario, turístico, bancario, construcción, ingeniería etc. Pero eso no es la falacia naïve de la 'reindustrialización verde'\": 'Valentin',\n",
       " 'Leo estos días a muchos, entre ellos a Alejo Vidal-Quadras, decir que Cs y PP deben fusionarse. Es curioso, porque quien se escindió del PP fue Vox y por tanto quien se debe reunificar, por definición, es PP y Vox. No Cs, quien sí surgió como el diferente.': 'Valentin',\n",
       " 'Madrid es vida': 'Valentin',\n",
       " 'A todo esto. ¿Dónde está Sánchez? ¿E Illa?': 'Valentin',\n",
       " 'Hay un hartazgo hacia este gobierno, en sectores que hasta hace uno o dos meses no lo había. Ahora, el trabajo tiene que venir de una oposición creíble, que consiga ilusionar y ser una alternativa para aquellos que se han cansado. Y eso requiere de estrategia de altura.': 'Valentin',\n",
       " 'Acabo de ver a un chaval escupir... Sin bajar la mascarilla': 'Valentin',\n",
       " 'Algunos políticos en lugar de buscar soluciones y concordia, buscan agitar el avispero para su propio beneficio. Es el caso de Echenique, que tiene el don de convertir en miseria todo aquello que toca. Probablemente un compendio de todo lo ruin que un hombre pueda ser.': 'Valentin',\n",
       " 'Días de lectura en batín, descanso sin afeitar entre rodajes y mascarillas varias concatenadas ': 'Josie',\n",
       " 'Acaba de publicar una foto en Ciudad De La Imagen ': 'Josie',\n",
       " 'Los ganadores de este año de Masterchef se están llevando la medalla de bronce.': 'Josie',\n",
       " 'La solución a mis problemas de rodilla en Clinica Cres. El gran fisioterapeuta Pedro Chueca me lo recomendó y tras un tiempo de tratamiento puedo deciros que se nota!! Más info en mi blog': 'Samantha Vallejo-Nagera',\n",
       " 'Qué bien lo habéis hecho los dos! ENHORABUENA ': 'Samantha Vallejo-Nagera',\n",
       " 'Desesperados en Castilla y León con las estrictas normas': 'Samantha Vallejo-Nagera',\n",
       " 'Demonio por fuera.Angelito por dentro.Ejem.': 'Samantha Vallejo-Nagera',\n",
       " 'Yo ya estoy lista para la semifinal de #MCJunior y tú??': 'Samantha Vallejo-Nagera',\n",
       " 'Hoy tenemos que despedirnos de Asier y Celia... pero nos vemos en el próximo programa con un montón de sorpresas!': 'Samantha Vallejo-Nagera',\n",
       " 'Qué ex aspirante quieres que vuelva?': 'Samantha Vallejo-Nagera',\n",
       " 'Siempre Diva nunca Indiva. Os quiero!!!': 'Henar',\n",
       " 'Rabo de toro estilo MasterChef...Que aproveche.': 'Henar',\n",
       " 'Con mi amiga Carmen. Pensando en ligar. Cual fue vuestro momento favorito.': 'Henar',\n",
       " 'Tartar de salmón para un fin de semana sano. Disfrutar de la buena compañía.': 'Henar',\n",
       " 'Mi primer plato de MCJ8 con el que me dieron 6 puntos. Mini falsa tabla. Os dejo las tablas de Albala en Cáceres, donde me inspire.': 'Henar',\n",
       " 'Muy apretadito veo el segundo delantal de duelista, a ver qué pasa... que la cosa está reñida': 'Jordi Cruz',\n",
       " 'Buenas noches y bienvenidos a @MasterChef_es #MCCelebrity ': 'Jordi Cruz',\n",
       " 'Buenas noches y bienvenidos a una maravillosa edición de #MCCelebrity Winking face with tongue empezamos!!': 'Jordi Cruz',\n",
       " 'Muchas felicidades a @anamchef8_  por una merecida y trabajada victoria. Mil gracias a todos los aspirantes de esta temporada y a todo el equipo de  @masterchef_es por hacer esta maravilla de programa. Nos vemos muy pronto en la edición Celebrity. Winking face with tongue': 'Jordi Cruz',\n",
       " 'Buenas noches a todos y bienvenidos a #MasterChef': 'Jordi Cruz',\n",
       " 'Buenas noches a todos! Empezamos #MasterChef': 'Jordi Cruz',\n",
       " 'Desde mi casa, El Bohío, os deseo lo mejor y que paséis unas felices fiestas, salud para todos!!!': 'Pepe Rodriguez',\n",
       " 'Poneos guap@s, vestios de gala, que esta noche nos vamos de estreno!!!Os esperamos a las 22h en @La1_tve con los peques de @masterchef_esWoman cookMan cook #MCJunior': 'Pepe Rodriguez',\n",
       " 'Espero que tengáis las mismas ganas que yo del programa de esta noche ': 'Pepe Rodriguez',\n",
       " 'Lo healthy está muy bien pero..... #vivaLaMantequilla ': 'Jeancha'}"
      ]
     },
     "execution_count": 28,
     "metadata": {},
     "output_type": "execute_result"
    }
   ],
   "source": [
    "section = \"twitter\"\n",
    "\n",
    "res = requests.get(\"http://127.0.0.1:5000/\"+section)\n",
    "res.json()"
   ]
  },
  {
   "cell_type": "markdown",
   "id": "incoming-encounter",
   "metadata": {},
   "source": [
    "#### Agregar personajes, frase y tweet"
   ]
  },
  {
   "cell_type": "markdown",
   "id": "metric-sheet",
   "metadata": {},
   "source": [
    "insertar nuevo personaje "
   ]
  },
  {
   "cell_type": "code",
   "execution_count": 15,
   "id": "structured-headset",
   "metadata": {},
   "outputs": [
    {
     "data": {
      "text/plain": [
       "{'_id': {'response': 200, 'message': 'character  successfully added'}}"
      ]
     },
     "execution_count": 15,
     "metadata": {},
     "output_type": "execute_result"
    }
   ],
   "source": [
    "character = {\n",
    "    \"name\":\"Odku\",\n",
    "    \"role\":\"participante\",\n",
    "}\n",
    "res = requests.get(\"http://127.0.0.1:5000/character/new\", params = character)\n",
    "res.json()"
   ]
  },
  {
   "cell_type": "markdown",
   "id": "injured-marketplace",
   "metadata": {},
   "source": [
    "insertar nueva frase"
   ]
  },
  {
   "cell_type": "code",
   "execution_count": 16,
   "id": "herbal-analyst",
   "metadata": {},
   "outputs": [
    {
     "data": {
      "text/plain": [
       "{'_id': {'response': 200, 'message': 'masterchef  successfully added'}}"
      ]
     },
     "execution_count": 16,
     "metadata": {},
     "output_type": "execute_result"
    }
   ],
   "source": [
    "phrase = {\n",
    "    \"name\":\"Jeancha\",\n",
    "    \"phrase\":\"Esto es muy fuerte\",\n",
    "    \"season\":\"MasterChef 7\",\n",
    "    \"chapter\": 1\n",
    "}\n",
    "res = requests.get(\"http://127.0.0.1:5000/masterchef/new\", params = phrase)\n",
    "res.json()"
   ]
  },
  {
   "cell_type": "markdown",
   "id": "mineral-rotation",
   "metadata": {},
   "source": [
    "insertar nuevo tweet "
   ]
  },
  {
   "cell_type": "code",
   "execution_count": 17,
   "id": "attended-sherman",
   "metadata": {
    "scrolled": true
   },
   "outputs": [
    {
     "data": {
      "text/plain": [
       "{'_id': {'response': 200, 'message': 'twitter  successfully added'}}"
      ]
     },
     "execution_count": 17,
     "metadata": {},
     "output_type": "execute_result"
    }
   ],
   "source": [
    "tweet = {\n",
    "    \"name\":\"Jeancha\",\n",
    "    \"tweet\":\"Lo healthy está muy bien pero..... #vivaLaMantequilla \"\n",
    "}\n",
    "res = requests.get(\"http://127.0.0.1:5000/twitter/new\", params = tweet)\n",
    "res.json()"
   ]
  },
  {
   "cell_type": "markdown",
   "id": "violent-basin",
   "metadata": {},
   "source": [
    "errores "
   ]
  },
  {
   "cell_type": "code",
   "execution_count": 24,
   "id": "given-allen",
   "metadata": {},
   "outputs": [
    {
     "data": {
      "text/plain": [
       "{'_id': {'response': 400,\n",
       "  'message': 'Bad Request: there is already a character with that name'}}"
      ]
     },
     "execution_count": 24,
     "metadata": {},
     "output_type": "execute_result"
    }
   ],
   "source": [
    "character = {\n",
    "    \"name\":\"Odku\",\n",
    "    \"role\":\"participante\",\n",
    "}\n",
    "res = requests.get(\"http://127.0.0.1:5000/character/new\", params = character)\n",
    "res.json()"
   ]
  },
  {
   "cell_type": "markdown",
   "id": "wound-reduction",
   "metadata": {},
   "source": [
    "#### Detalles"
   ]
  },
  {
   "cell_type": "markdown",
   "id": "offensive-license",
   "metadata": {},
   "source": [
    "detalle de un personaje "
   ]
  },
  {
   "cell_type": "code",
   "execution_count": 21,
   "id": "amateur-deployment",
   "metadata": {},
   "outputs": [
    {
     "data": {
      "text/plain": [
       "[{'_id': {'$oid': '6032bb5cab8a172d90dde050'},\n",
       "  'name': 'Jeancha',\n",
       "  'role': 'participante'}]"
      ]
     },
     "execution_count": 21,
     "metadata": {},
     "output_type": "execute_result"
    }
   ],
   "source": [
    "section = \"character\"\n",
    "identity = \"6032bb5cab8a172d90dde050\"\n",
    "\n",
    "res = requests.get(\"http://127.0.0.1:5000/\"+section+\"/details?id=\"+identity)\n",
    "res.json()"
   ]
  },
  {
   "cell_type": "markdown",
   "id": "freelance-monthly",
   "metadata": {},
   "source": [
    "detalles de una frase dicha "
   ]
  },
  {
   "cell_type": "code",
   "execution_count": 19,
   "id": "interpreted-scheduling",
   "metadata": {},
   "outputs": [
    {
     "data": {
      "text/plain": [
       "[{'_id': {'$oid': '6031ccdcf1264eede86ab56d'},\n",
       "  'name': 'Josie',\n",
       "  'phrase': '¿Cómo te crees que he llegado a los 40 con la cintura de Elizabeth  Taylor?',\n",
       "  'season': 'MasterChef Celebrity 5',\n",
       "  'chapter': '3'}]"
      ]
     },
     "execution_count": 19,
     "metadata": {},
     "output_type": "execute_result"
    }
   ],
   "source": [
    "section = \"masterchef\"\n",
    "identity = \"6031ccdcf1264eede86ab56d\"\n",
    "\n",
    "\n",
    "res = requests.get(\"http://127.0.0.1:5000/\"+section+\"/details?id=\"+identity)\n",
    "res.json()"
   ]
  },
  {
   "cell_type": "markdown",
   "id": "greenhouse-length",
   "metadata": {},
   "source": [
    "detalle de tweet"
   ]
  },
  {
   "cell_type": "code",
   "execution_count": 22,
   "id": "existing-greece",
   "metadata": {},
   "outputs": [
    {
     "data": {
      "text/plain": [
       "[{'_id': {'$oid': '603350543986e4d529d5f737'},\n",
       "  'name': 'Henar',\n",
       "  'tweet': 'Siempre Diva nunca Indiva. Os quiero!!!'}]"
      ]
     },
     "execution_count": 22,
     "metadata": {},
     "output_type": "execute_result"
    }
   ],
   "source": [
    "section = \"twitter\"\n",
    "identity = \"603350543986e4d529d5f737\"\n",
    "\n",
    "res = requests.get(\"http://127.0.0.1:5000/\"+section+\"/details?id=\"+identity)\n",
    "res.json()\n"
   ]
  },
  {
   "cell_type": "markdown",
   "id": "outer-capital",
   "metadata": {},
   "source": [
    "#### Eliminar"
   ]
  },
  {
   "cell_type": "markdown",
   "id": "wired-float",
   "metadata": {},
   "source": [
    "eliminar personaje "
   ]
  },
  {
   "cell_type": "code",
   "execution_count": 25,
   "id": "ambient-majority",
   "metadata": {},
   "outputs": [
    {
     "data": {
      "text/plain": [
       "{'response': 200, 'message': 'character  successfully deleted'}"
      ]
     },
     "execution_count": 25,
     "metadata": {},
     "output_type": "execute_result"
    }
   ],
   "source": [
    "section = \"character\"\n",
    "identity = \"6032b520ab8a172d90dde041\"\n",
    "\n",
    "res = requests.get(\"http://127.0.0.1:5000/character/delete?id=\"+identity)\n",
    "res.json()"
   ]
  },
  {
   "cell_type": "markdown",
   "id": "utility-midwest",
   "metadata": {},
   "source": [
    "eliminar una frase "
   ]
  },
  {
   "cell_type": "code",
   "execution_count": 26,
   "id": "selective-tamil",
   "metadata": {},
   "outputs": [
    {
     "data": {
      "text/plain": [
       "{'response': 200, 'message': 'masterchef  successfully deleted'}"
      ]
     },
     "execution_count": 26,
     "metadata": {},
     "output_type": "execute_result"
    }
   ],
   "source": [
    "identity = \"6032a58f32a36432b38f2644\"\n",
    "res = requests.get(\"http://127.0.0.1:5000/masterchef/delete?id=\"+identity)\n",
    "res.json()"
   ]
  },
  {
   "cell_type": "markdown",
   "id": "primary-detector",
   "metadata": {},
   "source": [
    "#### Editar coleccion "
   ]
  },
  {
   "cell_type": "markdown",
   "id": "beneficial-festival",
   "metadata": {},
   "source": [
    "editar personaje "
   ]
  },
  {
   "cell_type": "code",
   "execution_count": 29,
   "id": "traditional-conditioning",
   "metadata": {},
   "outputs": [
    {
     "data": {
      "text/plain": [
       "{'response': 200, 'message': 'masterchef successfully updated'}"
      ]
     },
     "execution_count": 29,
     "metadata": {},
     "output_type": "execute_result"
    }
   ],
   "source": [
    "identity = \"id=6031ccdcf1264eede86ab56d\"\n",
    "\n",
    "res = requests.get(\"http://127.0.0.1:5000/masterchef/edit?\"+identity,{ 'chapter':3} )\n",
    "res.json()"
   ]
  }
 ],
 "metadata": {
  "kernelspec": {
   "display_name": "Python 3",
   "language": "python",
   "name": "python3"
  },
  "language_info": {
   "codemirror_mode": {
    "name": "ipython",
    "version": 3
   },
   "file_extension": ".py",
   "mimetype": "text/x-python",
   "name": "python",
   "nbconvert_exporter": "python",
   "pygments_lexer": "ipython3",
   "version": "3.9.1"
  },
  "varInspector": {
   "cols": {
    "lenName": 16,
    "lenType": 16,
    "lenVar": 40
   },
   "kernels_config": {
    "python": {
     "delete_cmd_postfix": "",
     "delete_cmd_prefix": "del ",
     "library": "var_list.py",
     "varRefreshCmd": "print(var_dic_list())"
    },
    "r": {
     "delete_cmd_postfix": ") ",
     "delete_cmd_prefix": "rm(",
     "library": "var_list.r",
     "varRefreshCmd": "cat(var_dic_list()) "
    }
   },
   "types_to_exclude": [
    "module",
    "function",
    "builtin_function_or_method",
    "instance",
    "_Feature"
   ],
   "window_display": false
  }
 },
 "nbformat": 4,
 "nbformat_minor": 5
}
