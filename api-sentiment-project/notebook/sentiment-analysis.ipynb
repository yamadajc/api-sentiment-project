{
 "cells": [
  {
   "cell_type": "markdown",
   "id": "complex-merit",
   "metadata": {},
   "source": [
    "#  Sentiment Analysis"
   ]
  },
  {
   "cell_type": "markdown",
   "id": "weighted-remains",
   "metadata": {},
   "source": [
    "El objetivo de este notebook es de realizar un analisis comparativo entre lo dicho en el programa y declaraciones hechas en twitter. De esta forma se podra catalogar las frases dichas por algunos de los personajes en función de la connotación positiva o negativa y si en funcion del medio cambian su percepcion o no."
   ]
  },
  {
   "cell_type": "code",
   "execution_count": 1,
   "id": "exclusive-lightweight",
   "metadata": {},
   "outputs": [],
   "source": [
    "import requests\n",
    "import pandas as pd\n",
    "\n",
    "#regex\n",
    "import re\n",
    "\n",
    "#NLTK\n",
    "import nltk\n",
    "from nltk.sentiment.vader import SentimentIntensityAnalyzer\n",
    "from nltk.tokenize import RegexpTokenizer\n",
    "from nltk.corpus import stopwords\n",
    "\n",
    "#TextBlob\n",
    "from textblob import TextBlob"
   ]
  },
  {
   "cell_type": "markdown",
   "id": "saving-coverage",
   "metadata": {},
   "source": [
    "### twitter "
   ]
  },
  {
   "cell_type": "markdown",
   "id": "fantastic-startup",
   "metadata": {},
   "source": [
    "#### 1.Importacion de datos de la API "
   ]
  },
  {
   "cell_type": "code",
   "execution_count": 2,
   "id": "imperial-custody",
   "metadata": {},
   "outputs": [
    {
     "data": {
      "text/plain": [
       "200"
      ]
     },
     "execution_count": 2,
     "metadata": {},
     "output_type": "execute_result"
    }
   ],
   "source": [
    "all_aut = requests.get(\"http://127.0.0.1:5000/twitter\")\n",
    "all_aut.status_code"
   ]
  },
  {
   "cell_type": "code",
   "execution_count": 3,
   "id": "average-albuquerque",
   "metadata": {},
   "outputs": [],
   "source": [
    "datat = all_aut.json()"
   ]
  },
  {
   "cell_type": "code",
   "execution_count": 4,
   "id": "settled-minneapolis",
   "metadata": {},
   "outputs": [],
   "source": [
    "dft = pd.DataFrame(datat)"
   ]
  },
  {
   "cell_type": "code",
   "execution_count": 5,
   "id": "meaning-organ",
   "metadata": {},
   "outputs": [
    {
     "data": {
      "text/html": [
       "<div>\n",
       "<style scoped>\n",
       "    .dataframe tbody tr th:only-of-type {\n",
       "        vertical-align: middle;\n",
       "    }\n",
       "\n",
       "    .dataframe tbody tr th {\n",
       "        vertical-align: top;\n",
       "    }\n",
       "\n",
       "    .dataframe thead th {\n",
       "        text-align: right;\n",
       "    }\n",
       "</style>\n",
       "<table border=\"1\" class=\"dataframe\">\n",
       "  <thead>\n",
       "    <tr style=\"text-align: right;\">\n",
       "      <th></th>\n",
       "      <th>_id</th>\n",
       "      <th>name</th>\n",
       "      <th>tweet</th>\n",
       "    </tr>\n",
       "  </thead>\n",
       "  <tbody>\n",
       "    <tr>\n",
       "      <th>0</th>\n",
       "      <td>{'$oid': '6033439293462e5d1db84d92'}</td>\n",
       "      <td>Valentin</td>\n",
       "      <td>No tengo ni idea de marchas o pasos, pero esto...</td>\n",
       "    </tr>\n",
       "    <tr>\n",
       "      <th>1</th>\n",
       "      <td>{'$oid': '603348cfc443c4de3b6a4979'}</td>\n",
       "      <td>Valentin</td>\n",
       "      <td>Tendríamos que competir con países cuya indust...</td>\n",
       "    </tr>\n",
       "    <tr>\n",
       "      <th>2</th>\n",
       "      <td>{'$oid': '6033494520e299f73f9e5c06'}</td>\n",
       "      <td>Valentin</td>\n",
       "      <td>Cosa aparte es que podamos (Y debamos) potenci...</td>\n",
       "    </tr>\n",
       "  </tbody>\n",
       "</table>\n",
       "</div>"
      ],
      "text/plain": [
       "                                    _id      name  \\\n",
       "0  {'$oid': '6033439293462e5d1db84d92'}  Valentin   \n",
       "1  {'$oid': '603348cfc443c4de3b6a4979'}  Valentin   \n",
       "2  {'$oid': '6033494520e299f73f9e5c06'}  Valentin   \n",
       "\n",
       "                                               tweet  \n",
       "0  No tengo ni idea de marchas o pasos, pero esto...  \n",
       "1  Tendríamos que competir con países cuya indust...  \n",
       "2  Cosa aparte es que podamos (Y debamos) potenci...  "
      ]
     },
     "execution_count": 5,
     "metadata": {},
     "output_type": "execute_result"
    }
   ],
   "source": [
    "dft[:3]"
   ]
  },
  {
   "cell_type": "code",
   "execution_count": 6,
   "id": "framed-number",
   "metadata": {},
   "outputs": [],
   "source": [
    "dft.drop(['_id'], axis = 1 , inplace = True)"
   ]
  },
  {
   "cell_type": "code",
   "execution_count": 7,
   "id": "surface-clock",
   "metadata": {},
   "outputs": [
    {
     "data": {
      "text/html": [
       "<div>\n",
       "<style scoped>\n",
       "    .dataframe tbody tr th:only-of-type {\n",
       "        vertical-align: middle;\n",
       "    }\n",
       "\n",
       "    .dataframe tbody tr th {\n",
       "        vertical-align: top;\n",
       "    }\n",
       "\n",
       "    .dataframe thead th {\n",
       "        text-align: right;\n",
       "    }\n",
       "</style>\n",
       "<table border=\"1\" class=\"dataframe\">\n",
       "  <thead>\n",
       "    <tr style=\"text-align: right;\">\n",
       "      <th></th>\n",
       "      <th>name</th>\n",
       "      <th>tweet</th>\n",
       "    </tr>\n",
       "  </thead>\n",
       "  <tbody>\n",
       "    <tr>\n",
       "      <th>0</th>\n",
       "      <td>Valentin</td>\n",
       "      <td>No tengo ni idea de marchas o pasos, pero esto...</td>\n",
       "    </tr>\n",
       "    <tr>\n",
       "      <th>1</th>\n",
       "      <td>Valentin</td>\n",
       "      <td>Tendríamos que competir con países cuya indust...</td>\n",
       "    </tr>\n",
       "    <tr>\n",
       "      <th>2</th>\n",
       "      <td>Valentin</td>\n",
       "      <td>Cosa aparte es que podamos (Y debamos) potenci...</td>\n",
       "    </tr>\n",
       "  </tbody>\n",
       "</table>\n",
       "</div>"
      ],
      "text/plain": [
       "       name                                              tweet\n",
       "0  Valentin  No tengo ni idea de marchas o pasos, pero esto...\n",
       "1  Valentin  Tendríamos que competir con países cuya indust...\n",
       "2  Valentin  Cosa aparte es que podamos (Y debamos) potenci..."
      ]
     },
     "execution_count": 7,
     "metadata": {},
     "output_type": "execute_result"
    }
   ],
   "source": [
    "dft[:3]"
   ]
  },
  {
   "cell_type": "markdown",
   "id": "following-thinking",
   "metadata": {},
   "source": [
    "#### 2.\"Tokenizacion\""
   ]
  },
  {
   "cell_type": "code",
   "execution_count": 8,
   "id": "grand-characterization",
   "metadata": {},
   "outputs": [
    {
     "name": "stderr",
     "output_type": "stream",
     "text": [
      "[nltk_data] Downloading package punkt to\n",
      "[nltk_data]     /Users/jeancharlesyamada/nltk_data...\n",
      "[nltk_data]   Package punkt is already up-to-date!\n"
     ]
    },
    {
     "data": {
      "text/plain": [
       "True"
      ]
     },
     "execution_count": 8,
     "metadata": {},
     "output_type": "execute_result"
    }
   ],
   "source": [
    "#Donwload tokenizer from NLTK\n",
    "nltk.download('punkt')"
   ]
  },
  {
   "cell_type": "markdown",
   "id": "contained-mitchell",
   "metadata": {},
   "source": [
    "tokeniza solo la primera celda "
   ]
  },
  {
   "cell_type": "code",
   "execution_count": 9,
   "id": "blank-bernard",
   "metadata": {},
   "outputs": [
    {
     "data": {
      "text/plain": [
       "['No',\n",
       " 'tengo',\n",
       " 'ni',\n",
       " 'idea',\n",
       " 'de',\n",
       " 'marchas',\n",
       " 'o',\n",
       " 'pasos',\n",
       " 'pero',\n",
       " 'esto',\n",
       " 'me',\n",
       " 'parece',\n",
       " 'simplemente',\n",
       " 'precioso',\n",
       " 'y',\n",
       " 'quiero',\n",
       " 'vivirlo',\n",
       " 'ya',\n",
       " 'en',\n",
       " 'persona']"
      ]
     },
     "execution_count": 9,
     "metadata": {},
     "output_type": "execute_result"
    }
   ],
   "source": [
    "# este proceso permite separar cada palabra y encapsularlo en una lista contenida en una celda\n",
    "tokenizer = RegexpTokenizer(r'\\w+')\n",
    "tokens = tokenizer.tokenize(dft.iloc[0]['tweet'])\n",
    "tokens"
   ]
  },
  {
   "cell_type": "code",
   "execution_count": 10,
   "id": "aggressive-following",
   "metadata": {},
   "outputs": [],
   "source": [
    "def tokenize (string):\n",
    "    tokenizer = RegexpTokenizer(r'\\w+')\n",
    "    tokens = tokenizer.tokenize(string)\n",
    "    return tokens"
   ]
  },
  {
   "cell_type": "code",
   "execution_count": 11,
   "id": "searching-observer",
   "metadata": {},
   "outputs": [
    {
     "data": {
      "text/html": [
       "<div>\n",
       "<style scoped>\n",
       "    .dataframe tbody tr th:only-of-type {\n",
       "        vertical-align: middle;\n",
       "    }\n",
       "\n",
       "    .dataframe tbody tr th {\n",
       "        vertical-align: top;\n",
       "    }\n",
       "\n",
       "    .dataframe thead th {\n",
       "        text-align: right;\n",
       "    }\n",
       "</style>\n",
       "<table border=\"1\" class=\"dataframe\">\n",
       "  <thead>\n",
       "    <tr style=\"text-align: right;\">\n",
       "      <th></th>\n",
       "      <th>name</th>\n",
       "      <th>tweet</th>\n",
       "    </tr>\n",
       "  </thead>\n",
       "  <tbody>\n",
       "    <tr>\n",
       "      <th>0</th>\n",
       "      <td>Valentin</td>\n",
       "      <td>[No, tengo, ni, idea, de, marchas, o, pasos, p...</td>\n",
       "    </tr>\n",
       "    <tr>\n",
       "      <th>1</th>\n",
       "      <td>Valentin</td>\n",
       "      <td>[Tendríamos, que, competir, con, países, cuya,...</td>\n",
       "    </tr>\n",
       "    <tr>\n",
       "      <th>2</th>\n",
       "      <td>Valentin</td>\n",
       "      <td>[Cosa, aparte, es, que, podamos, Y, debamos, p...</td>\n",
       "    </tr>\n",
       "    <tr>\n",
       "      <th>3</th>\n",
       "      <td>Valentin</td>\n",
       "      <td>[Leo, estos, días, a, muchos, entre, ellos, a,...</td>\n",
       "    </tr>\n",
       "    <tr>\n",
       "      <th>4</th>\n",
       "      <td>Valentin</td>\n",
       "      <td>[Madrid, es, vida]</td>\n",
       "    </tr>\n",
       "  </tbody>\n",
       "</table>\n",
       "</div>"
      ],
      "text/plain": [
       "       name                                              tweet\n",
       "0  Valentin  [No, tengo, ni, idea, de, marchas, o, pasos, p...\n",
       "1  Valentin  [Tendríamos, que, competir, con, países, cuya,...\n",
       "2  Valentin  [Cosa, aparte, es, que, podamos, Y, debamos, p...\n",
       "3  Valentin  [Leo, estos, días, a, muchos, entre, ellos, a,...\n",
       "4  Valentin                                 [Madrid, es, vida]"
      ]
     },
     "execution_count": 11,
     "metadata": {},
     "output_type": "execute_result"
    }
   ],
   "source": [
    "dft['tweet'] = dft['tweet'].apply(tokenize)\n",
    "dft.head()"
   ]
  },
  {
   "cell_type": "code",
   "execution_count": 12,
   "id": "offensive-collector",
   "metadata": {},
   "outputs": [
    {
     "data": {
      "text/html": [
       "<div>\n",
       "<style scoped>\n",
       "    .dataframe tbody tr th:only-of-type {\n",
       "        vertical-align: middle;\n",
       "    }\n",
       "\n",
       "    .dataframe tbody tr th {\n",
       "        vertical-align: top;\n",
       "    }\n",
       "\n",
       "    .dataframe thead th {\n",
       "        text-align: right;\n",
       "    }\n",
       "</style>\n",
       "<table border=\"1\" class=\"dataframe\">\n",
       "  <thead>\n",
       "    <tr style=\"text-align: right;\">\n",
       "      <th></th>\n",
       "      <th>name</th>\n",
       "      <th>tweet</th>\n",
       "    </tr>\n",
       "  </thead>\n",
       "  <tbody>\n",
       "    <tr>\n",
       "      <th>0</th>\n",
       "      <td>Valentin</td>\n",
       "      <td>No tengo ni idea de marchas o pasos pero esto ...</td>\n",
       "    </tr>\n",
       "    <tr>\n",
       "      <th>1</th>\n",
       "      <td>Valentin</td>\n",
       "      <td>Tendríamos que competir con países cuya indust...</td>\n",
       "    </tr>\n",
       "    <tr>\n",
       "      <th>2</th>\n",
       "      <td>Valentin</td>\n",
       "      <td>Cosa aparte es que podamos Y debamos potenciar...</td>\n",
       "    </tr>\n",
       "    <tr>\n",
       "      <th>3</th>\n",
       "      <td>Valentin</td>\n",
       "      <td>Leo estos días a muchos entre ellos a Alejo Vi...</td>\n",
       "    </tr>\n",
       "    <tr>\n",
       "      <th>4</th>\n",
       "      <td>Valentin</td>\n",
       "      <td>Madrid es vida</td>\n",
       "    </tr>\n",
       "  </tbody>\n",
       "</table>\n",
       "</div>"
      ],
      "text/plain": [
       "       name                                              tweet\n",
       "0  Valentin  No tengo ni idea de marchas o pasos pero esto ...\n",
       "1  Valentin  Tendríamos que competir con países cuya indust...\n",
       "2  Valentin  Cosa aparte es que podamos Y debamos potenciar...\n",
       "3  Valentin  Leo estos días a muchos entre ellos a Alejo Vi...\n",
       "4  Valentin                                     Madrid es vida"
      ]
     },
     "execution_count": 12,
     "metadata": {},
     "output_type": "execute_result"
    }
   ],
   "source": [
    "dft['tweet'] = dft['tweet'].apply(lambda x: \" \".join(x))\n",
    "dft.head()"
   ]
  },
  {
   "cell_type": "markdown",
   "id": "square-validity",
   "metadata": {},
   "source": [
    "#### 3.Traducion "
   ]
  },
  {
   "cell_type": "code",
   "execution_count": 13,
   "id": "golden-treat",
   "metadata": {},
   "outputs": [
    {
     "data": {
      "text/plain": [
       "TextBlob(\"Spain is different\")"
      ]
     },
     "execution_count": 13,
     "metadata": {},
     "output_type": "execute_result"
    }
   ],
   "source": [
    "#Translating\n",
    "spanish_string = TextBlob(u'españa es diferente')\n",
    "english_blob=spanish_string.translate(from_lang='es',to='en')\n",
    "english_blob"
   ]
  },
  {
   "cell_type": "code",
   "execution_count": 14,
   "id": "expensive-extension",
   "metadata": {},
   "outputs": [],
   "source": [
    "def intoEnglish(string):\n",
    "    spanish_string = TextBlob(string)\n",
    "    try:\n",
    "        english_blob=spanish_string.translate(from_lang='es',to='en')\n",
    "        return \"\".join(list(english_blob))\n",
    "    except:\n",
    "        return string"
   ]
  },
  {
   "cell_type": "code",
   "execution_count": 15,
   "id": "national-amount",
   "metadata": {},
   "outputs": [],
   "source": [
    "dft['tweet'] = dft.tweet.apply(intoEnglish)"
   ]
  },
  {
   "cell_type": "code",
   "execution_count": 16,
   "id": "dutch-child",
   "metadata": {},
   "outputs": [
    {
     "data": {
      "text/html": [
       "<div>\n",
       "<style scoped>\n",
       "    .dataframe tbody tr th:only-of-type {\n",
       "        vertical-align: middle;\n",
       "    }\n",
       "\n",
       "    .dataframe tbody tr th {\n",
       "        vertical-align: top;\n",
       "    }\n",
       "\n",
       "    .dataframe thead th {\n",
       "        text-align: right;\n",
       "    }\n",
       "</style>\n",
       "<table border=\"1\" class=\"dataframe\">\n",
       "  <thead>\n",
       "    <tr style=\"text-align: right;\">\n",
       "      <th></th>\n",
       "      <th>name</th>\n",
       "      <th>tweet</th>\n",
       "    </tr>\n",
       "  </thead>\n",
       "  <tbody>\n",
       "    <tr>\n",
       "      <th>0</th>\n",
       "      <td>Valentin</td>\n",
       "      <td>I have no idea of ​​marches or steps but this ...</td>\n",
       "    </tr>\n",
       "    <tr>\n",
       "      <th>1</th>\n",
       "      <td>Valentin</td>\n",
       "      <td>We would have to compete with countries whose ...</td>\n",
       "    </tr>\n",
       "    <tr>\n",
       "      <th>2</th>\n",
       "      <td>Valentin</td>\n",
       "      <td>A separate thing is that we can AND we should ...</td>\n",
       "    </tr>\n",
       "    <tr>\n",
       "      <th>3</th>\n",
       "      <td>Valentin</td>\n",
       "      <td>I read these days many, including Alejo Vidal ...</td>\n",
       "    </tr>\n",
       "    <tr>\n",
       "      <th>4</th>\n",
       "      <td>Valentin</td>\n",
       "      <td>Madrid is life</td>\n",
       "    </tr>\n",
       "  </tbody>\n",
       "</table>\n",
       "</div>"
      ],
      "text/plain": [
       "       name                                              tweet\n",
       "0  Valentin  I have no idea of ​​marches or steps but this ...\n",
       "1  Valentin  We would have to compete with countries whose ...\n",
       "2  Valentin  A separate thing is that we can AND we should ...\n",
       "3  Valentin  I read these days many, including Alejo Vidal ...\n",
       "4  Valentin                                     Madrid is life"
      ]
     },
     "execution_count": 16,
     "metadata": {},
     "output_type": "execute_result"
    }
   ],
   "source": [
    "dft.head()"
   ]
  },
  {
   "cell_type": "markdown",
   "id": "progressive-distribution",
   "metadata": {},
   "source": [
    "#### 4. \"Stopwords\" Discriminacion de palabras \n",
    "descartamo palabras como articulos o conectores\n"
   ]
  },
  {
   "cell_type": "code",
   "execution_count": 17,
   "id": "printable-worthy",
   "metadata": {},
   "outputs": [
    {
     "name": "stderr",
     "output_type": "stream",
     "text": [
      "[nltk_data] Downloading package stopwords to\n",
      "[nltk_data]     /Users/jeancharlesyamada/nltk_data...\n",
      "[nltk_data]   Package stopwords is already up-to-date!\n"
     ]
    },
    {
     "data": {
      "text/plain": [
       "True"
      ]
     },
     "execution_count": 17,
     "metadata": {},
     "output_type": "execute_result"
    }
   ],
   "source": [
    "#stopwords\n",
    "nltk.download('stopwords') "
   ]
  },
  {
   "cell_type": "code",
   "execution_count": 18,
   "id": "occasional-prime",
   "metadata": {},
   "outputs": [
    {
     "name": "stdout",
     "output_type": "stream",
     "text": [
      "{'myself', 'again', 'are', 'below', 'its', 'on', 'those', 'few', \"that'll\", 'does', 'him', 'after', 'haven', 'wasn', 'ours', 'be', 'both', 'an', \"should've\", 'who', \"needn't\", \"wouldn't\", 'my', 'how', 's', 'further', 'weren', 'above', 'theirs', 'just', 'needn', 'he', 'shan', 'when', 'while', 'own', \"shan't\", 'most', 'do', 'couldn', 'did', 'isn', \"you'll\", 'was', \"you've\", \"couldn't\", 'hers', 'other', 'but', \"don't\", 'they', 'before', 'we', 'yourself', 'it', 'ourselves', 'am', 'of', 'being', 'once', \"it's\", 'to', \"you're\", 'whom', 'herself', 'doing', 'under', 'what', \"mustn't\", 'into', 'had', 'if', 'itself', 'here', 'why', 'mightn', 'a', \"doesn't\", \"isn't\", 'nor', 'than', 'having', 'through', 'no', \"she's\", 'more', 'themselves', 'll', 'against', 'his', 'each', 'so', \"won't\", 'o', 'there', 'from', 'now', 'as', 'for', 'were', 'doesn', 'off', 'should', 'you', 'can', \"wasn't\", 'd', 'only', 'she', 'some', 'wouldn', 'because', 'yourselves', 'their', 'and', 'such', 'same', 'y', 't', \"aren't\", 'too', 'didn', 'not', \"you'd\", 're', 'your', 'between', 'the', \"mightn't\", 'then', 'about', 'where', 'don', 'out', \"weren't\", 'her', 'that', 'until', 'yours', 'hasn', 'which', 'hadn', 'will', 'them', 've', 'in', 'at', 'ain', 'up', 'very', \"haven't\", 'by', \"hadn't\", 'down', 'is', 'during', 'won', 'me', 'shouldn', 'have', 'has', 'all', 'i', 'with', 'aren', 'or', 'm', 'mustn', 'over', 'this', 'our', \"hasn't\", 'ma', \"shouldn't\", 'these', 'been', 'any', 'himself', \"didn't\"}\n"
     ]
    }
   ],
   "source": [
    "stop_words = set(stopwords.words('english'))\n",
    "print(stop_words)"
   ]
  },
  {
   "cell_type": "code",
   "execution_count": 19,
   "id": "republican-central",
   "metadata": {},
   "outputs": [],
   "source": [
    "dft.tweet = dft.tweet.apply(lambda x: x.split(\" \"))"
   ]
  },
  {
   "cell_type": "code",
   "execution_count": 20,
   "id": "flush-collect",
   "metadata": {},
   "outputs": [
    {
     "data": {
      "text/html": [
       "<div>\n",
       "<style scoped>\n",
       "    .dataframe tbody tr th:only-of-type {\n",
       "        vertical-align: middle;\n",
       "    }\n",
       "\n",
       "    .dataframe tbody tr th {\n",
       "        vertical-align: top;\n",
       "    }\n",
       "\n",
       "    .dataframe thead th {\n",
       "        text-align: right;\n",
       "    }\n",
       "</style>\n",
       "<table border=\"1\" class=\"dataframe\">\n",
       "  <thead>\n",
       "    <tr style=\"text-align: right;\">\n",
       "      <th></th>\n",
       "      <th>name</th>\n",
       "      <th>tweet</th>\n",
       "    </tr>\n",
       "  </thead>\n",
       "  <tbody>\n",
       "    <tr>\n",
       "      <th>0</th>\n",
       "      <td>Valentin</td>\n",
       "      <td>[I, have, no, idea, of, ​​marches, or, steps, ...</td>\n",
       "    </tr>\n",
       "    <tr>\n",
       "      <th>1</th>\n",
       "      <td>Valentin</td>\n",
       "      <td>[We, would, have, to, compete, with, countries...</td>\n",
       "    </tr>\n",
       "    <tr>\n",
       "      <th>2</th>\n",
       "      <td>Valentin</td>\n",
       "      <td>[A, separate, thing, is, that, we, can, AND, w...</td>\n",
       "    </tr>\n",
       "    <tr>\n",
       "      <th>3</th>\n",
       "      <td>Valentin</td>\n",
       "      <td>[I, read, these, days, many,, including, Alejo...</td>\n",
       "    </tr>\n",
       "    <tr>\n",
       "      <th>4</th>\n",
       "      <td>Valentin</td>\n",
       "      <td>[Madrid, is, life]</td>\n",
       "    </tr>\n",
       "  </tbody>\n",
       "</table>\n",
       "</div>"
      ],
      "text/plain": [
       "       name                                              tweet\n",
       "0  Valentin  [I, have, no, idea, of, ​​marches, or, steps, ...\n",
       "1  Valentin  [We, would, have, to, compete, with, countries...\n",
       "2  Valentin  [A, separate, thing, is, that, we, can, AND, w...\n",
       "3  Valentin  [I, read, these, days, many,, including, Alejo...\n",
       "4  Valentin                                 [Madrid, is, life]"
      ]
     },
     "execution_count": 20,
     "metadata": {},
     "output_type": "execute_result"
    }
   ],
   "source": [
    "dft.head()"
   ]
  },
  {
   "cell_type": "code",
   "execution_count": 21,
   "id": "after-performer",
   "metadata": {},
   "outputs": [],
   "source": [
    "def stop_words (lista):\n",
    "    stop_words = set(stopwords.words('english'))\n",
    "    nueva_lista = []\n",
    "    for string in lista:\n",
    "        if string not in stop_words:\n",
    "            nueva_lista.append(string)\n",
    "    return \" \".join(nueva_lista)"
   ]
  },
  {
   "cell_type": "code",
   "execution_count": 22,
   "id": "spare-reception",
   "metadata": {},
   "outputs": [
    {
     "data": {
      "text/html": [
       "<div>\n",
       "<style scoped>\n",
       "    .dataframe tbody tr th:only-of-type {\n",
       "        vertical-align: middle;\n",
       "    }\n",
       "\n",
       "    .dataframe tbody tr th {\n",
       "        vertical-align: top;\n",
       "    }\n",
       "\n",
       "    .dataframe thead th {\n",
       "        text-align: right;\n",
       "    }\n",
       "</style>\n",
       "<table border=\"1\" class=\"dataframe\">\n",
       "  <thead>\n",
       "    <tr style=\"text-align: right;\">\n",
       "      <th></th>\n",
       "      <th>name</th>\n",
       "      <th>tweet</th>\n",
       "    </tr>\n",
       "  </thead>\n",
       "  <tbody>\n",
       "    <tr>\n",
       "      <th>0</th>\n",
       "      <td>Valentin</td>\n",
       "      <td>I idea ​​marches steps seems simply beautiful ...</td>\n",
       "    </tr>\n",
       "    <tr>\n",
       "      <th>1</th>\n",
       "      <td>Valentin</td>\n",
       "      <td>We would compete countries whose industry full...</td>\n",
       "    </tr>\n",
       "    <tr>\n",
       "      <th>2</th>\n",
       "      <td>Valentin</td>\n",
       "      <td>A separate thing AND enhance innovation streng...</td>\n",
       "    </tr>\n",
       "    <tr>\n",
       "      <th>3</th>\n",
       "      <td>Valentin</td>\n",
       "      <td>I read days many, including Alejo Vidal Quadra...</td>\n",
       "    </tr>\n",
       "    <tr>\n",
       "      <th>4</th>\n",
       "      <td>Valentin</td>\n",
       "      <td>Madrid life</td>\n",
       "    </tr>\n",
       "  </tbody>\n",
       "</table>\n",
       "</div>"
      ],
      "text/plain": [
       "       name                                              tweet\n",
       "0  Valentin  I idea ​​marches steps seems simply beautiful ...\n",
       "1  Valentin  We would compete countries whose industry full...\n",
       "2  Valentin  A separate thing AND enhance innovation streng...\n",
       "3  Valentin  I read days many, including Alejo Vidal Quadra...\n",
       "4  Valentin                                        Madrid life"
      ]
     },
     "execution_count": 22,
     "metadata": {},
     "output_type": "execute_result"
    }
   ],
   "source": [
    "dft.tweet = dft.tweet.apply(stop_words)\n",
    "dft.head()"
   ]
  },
  {
   "cell_type": "markdown",
   "id": "rolled-frederick",
   "metadata": {},
   "source": [
    "#### 5. Analisi del sentimiento"
   ]
  },
  {
   "cell_type": "markdown",
   "id": "private-monitor",
   "metadata": {},
   "source": [
    "uso de Textblob"
   ]
  },
  {
   "cell_type": "code",
   "execution_count": 23,
   "id": "united-observer",
   "metadata": {},
   "outputs": [
    {
     "data": {
      "text/plain": [
       "Sentiment(polarity=-0.8, subjectivity=0.9)"
      ]
     },
     "execution_count": 23,
     "metadata": {},
     "output_type": "execute_result"
    }
   ],
   "source": [
    "#ejemplo\n",
    "the_string = \"i hate it here\"\n",
    "blob = TextBlob(the_string)\n",
    "blob.sentiment"
   ]
  },
  {
   "cell_type": "markdown",
   "id": "perceived-religious",
   "metadata": {},
   "source": [
    "#####  NLTK"
   ]
  },
  {
   "cell_type": "code",
   "execution_count": 24,
   "id": "experienced-forwarding",
   "metadata": {},
   "outputs": [
    {
     "name": "stderr",
     "output_type": "stream",
     "text": [
      "[nltk_data] Downloading package vader_lexicon to\n",
      "[nltk_data]     /Users/jeancharlesyamada/nltk_data...\n",
      "[nltk_data]   Package vader_lexicon is already up-to-date!\n"
     ]
    },
    {
     "data": {
      "text/plain": [
       "True"
      ]
     },
     "execution_count": 24,
     "metadata": {},
     "output_type": "execute_result"
    }
   ],
   "source": [
    "#activamos vader_lexicon\n",
    "nltk.downloader.download('vader_lexicon')"
   ]
  },
  {
   "cell_type": "markdown",
   "id": "polyphonic-thompson",
   "metadata": {},
   "source": [
    "ejemplo de uso "
   ]
  },
  {
   "cell_type": "code",
   "execution_count": 25,
   "id": "greater-second",
   "metadata": {},
   "outputs": [
    {
     "data": {
      "text/plain": [
       "{'neg': 0.512, 'neu': 0.488, 'pos': 0.0, 'compound': -0.4847}"
      ]
     },
     "execution_count": 25,
     "metadata": {},
     "output_type": "execute_result"
    }
   ],
   "source": [
    "sia = SentimentIntensityAnalyzer()\n",
    "sentence = \"this is not beautiful\"\n",
    "polarity = sia.polarity_scores(sentence)\n",
    "polarity"
   ]
  },
  {
   "cell_type": "code",
   "execution_count": 26,
   "id": "naked-recognition",
   "metadata": {},
   "outputs": [],
   "source": [
    "def sentimentAnalysis(sentence):\n",
    "    sia = SentimentIntensityAnalyzer()\n",
    "    polarity = sia.polarity_scores(sentence)\n",
    "    pol = polarity['compound']\n",
    "    return pol"
   ]
  },
  {
   "cell_type": "code",
   "execution_count": 27,
   "id": "natural-filing",
   "metadata": {},
   "outputs": [
    {
     "data": {
      "text/plain": [
       "-0.4847"
      ]
     },
     "execution_count": 27,
     "metadata": {},
     "output_type": "execute_result"
    }
   ],
   "source": [
    "sentimentAnalysis(sentence)\n"
   ]
  },
  {
   "cell_type": "code",
   "execution_count": 28,
   "id": "quantitative-collection",
   "metadata": {},
   "outputs": [
    {
     "data": {
      "text/html": [
       "<div>\n",
       "<style scoped>\n",
       "    .dataframe tbody tr th:only-of-type {\n",
       "        vertical-align: middle;\n",
       "    }\n",
       "\n",
       "    .dataframe tbody tr th {\n",
       "        vertical-align: top;\n",
       "    }\n",
       "\n",
       "    .dataframe thead th {\n",
       "        text-align: right;\n",
       "    }\n",
       "</style>\n",
       "<table border=\"1\" class=\"dataframe\">\n",
       "  <thead>\n",
       "    <tr style=\"text-align: right;\">\n",
       "      <th></th>\n",
       "      <th>name</th>\n",
       "      <th>tweet</th>\n",
       "      <th>twitter_sentiment</th>\n",
       "    </tr>\n",
       "  </thead>\n",
       "  <tbody>\n",
       "    <tr>\n",
       "      <th>0</th>\n",
       "      <td>Valentin</td>\n",
       "      <td>I idea ​​marches steps seems simply beautiful ...</td>\n",
       "      <td>0.6369</td>\n",
       "    </tr>\n",
       "    <tr>\n",
       "      <th>1</th>\n",
       "      <td>Valentin</td>\n",
       "      <td>We would compete countries whose industry full...</td>\n",
       "      <td>0.0772</td>\n",
       "    </tr>\n",
       "    <tr>\n",
       "      <th>2</th>\n",
       "      <td>Valentin</td>\n",
       "      <td>A separate thing AND enhance innovation streng...</td>\n",
       "      <td>0.8360</td>\n",
       "    </tr>\n",
       "    <tr>\n",
       "      <th>3</th>\n",
       "      <td>Valentin</td>\n",
       "      <td>I read days many, including Alejo Vidal Quadra...</td>\n",
       "      <td>0.0258</td>\n",
       "    </tr>\n",
       "    <tr>\n",
       "      <th>4</th>\n",
       "      <td>Valentin</td>\n",
       "      <td>Madrid life</td>\n",
       "      <td>0.0000</td>\n",
       "    </tr>\n",
       "  </tbody>\n",
       "</table>\n",
       "</div>"
      ],
      "text/plain": [
       "       name                                              tweet  \\\n",
       "0  Valentin  I idea ​​marches steps seems simply beautiful ...   \n",
       "1  Valentin  We would compete countries whose industry full...   \n",
       "2  Valentin  A separate thing AND enhance innovation streng...   \n",
       "3  Valentin  I read days many, including Alejo Vidal Quadra...   \n",
       "4  Valentin                                        Madrid life   \n",
       "\n",
       "   twitter_sentiment  \n",
       "0             0.6369  \n",
       "1             0.0772  \n",
       "2             0.8360  \n",
       "3             0.0258  \n",
       "4             0.0000  "
      ]
     },
     "execution_count": 28,
     "metadata": {},
     "output_type": "execute_result"
    }
   ],
   "source": [
    "dft['twitter_sentiment'] = dft.tweet.apply(sentimentAnalysis)\n",
    "dft.head()"
   ]
  },
  {
   "cell_type": "code",
   "execution_count": 29,
   "id": "cross-swedish",
   "metadata": {},
   "outputs": [
    {
     "data": {
      "text/plain": [
       "Valentin                   9\n",
       "Samantha Vallejo-Nagera    7\n",
       "Jordi Cruz                 6\n",
       "Henar                      5\n",
       "Pepe Rodriguez             3\n",
       "Josie                      3\n",
       "Jeancha                    1\n",
       "Name: name, dtype: int64"
      ]
     },
     "execution_count": 29,
     "metadata": {},
     "output_type": "execute_result"
    }
   ],
   "source": [
    "dft.name.value_counts()"
   ]
  },
  {
   "cell_type": "code",
   "execution_count": 31,
   "id": "regulation-elimination",
   "metadata": {},
   "outputs": [
    {
     "data": {
      "text/plain": [
       "name\n",
       "Samantha Vallejo-Nagera    0.161600\n",
       "Valentin                   0.226833\n",
       "Josie                      0.245033\n",
       "Henar                      0.361880\n",
       "Jordi Cruz                 0.601767\n",
       "Jeancha                    0.680800\n",
       "Pepe Rodriguez             0.734433\n",
       "Name: twitter_sentiment, dtype: float64"
      ]
     },
     "execution_count": 31,
     "metadata": {},
     "output_type": "execute_result"
    }
   ],
   "source": [
    "resumen = dft.groupby(['name'])['twitter_sentiment'].mean().sort_values()\n",
    "resumen"
   ]
  },
  {
   "cell_type": "code",
   "execution_count": 50,
   "id": "tender-armenia",
   "metadata": {},
   "outputs": [
    {
     "data": {
      "text/plain": [
       "<AxesSubplot:xlabel='name'>"
      ]
     },
     "execution_count": 50,
     "metadata": {},
     "output_type": "execute_result"
    },
    {
     "data": {
      "image/png": "[encoded data removed]",
      "text/plain": [
       "<Figure size 432x288 with 1 Axes>"
      ]
     },
     "metadata": {
      "needs_background": "light"
     },
     "output_type": "display_data"
    }
   ],
   "source": [
    "resumen.plot(kind=\"bar\")"
   ]
  },
  {
   "cell_type": "markdown",
   "id": "excited-alabama",
   "metadata": {},
   "source": [
    "### Frases dichas en Masterchef "
   ]
  },
  {
   "cell_type": "markdown",
   "id": "stylish-commander",
   "metadata": {},
   "source": [
    "#### 1.Importacion de datos de la API "
   ]
  },
  {
   "cell_type": "code",
   "execution_count": 33,
   "id": "assigned-webcam",
   "metadata": {},
   "outputs": [
    {
     "data": {
      "text/plain": [
       "200"
      ]
     },
     "execution_count": 33,
     "metadata": {},
     "output_type": "execute_result"
    }
   ],
   "source": [
    "all_aut = requests.get(\"http://127.0.0.1:5000/masterchef\")\n",
    "all_aut.status_code"
   ]
  },
  {
   "cell_type": "code",
   "execution_count": 34,
   "id": "skilled-incident",
   "metadata": {},
   "outputs": [
    {
     "data": {
      "text/html": [
       "<div>\n",
       "<style scoped>\n",
       "    .dataframe tbody tr th:only-of-type {\n",
       "        vertical-align: middle;\n",
       "    }\n",
       "\n",
       "    .dataframe tbody tr th {\n",
       "        vertical-align: top;\n",
       "    }\n",
       "\n",
       "    .dataframe thead th {\n",
       "        text-align: right;\n",
       "    }\n",
       "</style>\n",
       "<table border=\"1\" class=\"dataframe\">\n",
       "  <thead>\n",
       "    <tr style=\"text-align: right;\">\n",
       "      <th></th>\n",
       "      <th>_id</th>\n",
       "      <th>name</th>\n",
       "      <th>phrase</th>\n",
       "      <th>season</th>\n",
       "      <th>chapter</th>\n",
       "    </tr>\n",
       "  </thead>\n",
       "  <tbody>\n",
       "    <tr>\n",
       "      <th>0</th>\n",
       "      <td>{'$oid': '6031ccdcf1264eede86ab56d'}</td>\n",
       "      <td>Josie</td>\n",
       "      <td>¿Cómo te crees que he llegado a los 40 con la ...</td>\n",
       "      <td>MasterChef Celebrity 5</td>\n",
       "      <td>3</td>\n",
       "    </tr>\n",
       "    <tr>\n",
       "      <th>1</th>\n",
       "      <td>{'$oid': '6032a2ca32a36432b38f263d'}</td>\n",
       "      <td>Osiris</td>\n",
       "      <td>Mira que rico el chocolate negro mami</td>\n",
       "      <td>MasterChef 7</td>\n",
       "      <td>4</td>\n",
       "    </tr>\n",
       "    <tr>\n",
       "      <th>2</th>\n",
       "      <td>{'$oid': '6032a3a132a36432b38f263e'}</td>\n",
       "      <td>Josie</td>\n",
       "      <td>Me impone la salchicha, si te digo la verdad</td>\n",
       "      <td>MasterChef Celebrity 5</td>\n",
       "      <td>3</td>\n",
       "    </tr>\n",
       "  </tbody>\n",
       "</table>\n",
       "</div>"
      ],
      "text/plain": [
       "                                    _id    name  \\\n",
       "0  {'$oid': '6031ccdcf1264eede86ab56d'}   Josie   \n",
       "1  {'$oid': '6032a2ca32a36432b38f263d'}  Osiris   \n",
       "2  {'$oid': '6032a3a132a36432b38f263e'}   Josie   \n",
       "\n",
       "                                              phrase                  season  \\\n",
       "0  ¿Cómo te crees que he llegado a los 40 con la ...  MasterChef Celebrity 5   \n",
       "1              Mira que rico el chocolate negro mami            MasterChef 7   \n",
       "2       Me impone la salchicha, si te digo la verdad  MasterChef Celebrity 5   \n",
       "\n",
       "  chapter  \n",
       "0       3  \n",
       "1       4  \n",
       "2       3  "
      ]
     },
     "execution_count": 34,
     "metadata": {},
     "output_type": "execute_result"
    }
   ],
   "source": [
    "datam = all_aut.json()\n",
    "dfm = pd.DataFrame(datam)\n",
    "dfm[:3]"
   ]
  },
  {
   "cell_type": "code",
   "execution_count": 35,
   "id": "bearing-archives",
   "metadata": {},
   "outputs": [
    {
     "data": {
      "text/html": [
       "<div>\n",
       "<style scoped>\n",
       "    .dataframe tbody tr th:only-of-type {\n",
       "        vertical-align: middle;\n",
       "    }\n",
       "\n",
       "    .dataframe tbody tr th {\n",
       "        vertical-align: top;\n",
       "    }\n",
       "\n",
       "    .dataframe thead th {\n",
       "        text-align: right;\n",
       "    }\n",
       "</style>\n",
       "<table border=\"1\" class=\"dataframe\">\n",
       "  <thead>\n",
       "    <tr style=\"text-align: right;\">\n",
       "      <th></th>\n",
       "      <th>name</th>\n",
       "      <th>phrase</th>\n",
       "      <th>season</th>\n",
       "      <th>chapter</th>\n",
       "    </tr>\n",
       "  </thead>\n",
       "  <tbody>\n",
       "    <tr>\n",
       "      <th>0</th>\n",
       "      <td>Josie</td>\n",
       "      <td>¿Cómo te crees que he llegado a los 40 con la ...</td>\n",
       "      <td>MasterChef Celebrity 5</td>\n",
       "      <td>3</td>\n",
       "    </tr>\n",
       "    <tr>\n",
       "      <th>1</th>\n",
       "      <td>Osiris</td>\n",
       "      <td>Mira que rico el chocolate negro mami</td>\n",
       "      <td>MasterChef 7</td>\n",
       "      <td>4</td>\n",
       "    </tr>\n",
       "    <tr>\n",
       "      <th>2</th>\n",
       "      <td>Josie</td>\n",
       "      <td>Me impone la salchicha, si te digo la verdad</td>\n",
       "      <td>MasterChef Celebrity 5</td>\n",
       "      <td>3</td>\n",
       "    </tr>\n",
       "  </tbody>\n",
       "</table>\n",
       "</div>"
      ],
      "text/plain": [
       "     name                                             phrase  \\\n",
       "0   Josie  ¿Cómo te crees que he llegado a los 40 con la ...   \n",
       "1  Osiris              Mira que rico el chocolate negro mami   \n",
       "2   Josie       Me impone la salchicha, si te digo la verdad   \n",
       "\n",
       "                   season chapter  \n",
       "0  MasterChef Celebrity 5       3  \n",
       "1            MasterChef 7       4  \n",
       "2  MasterChef Celebrity 5       3  "
      ]
     },
     "execution_count": 35,
     "metadata": {},
     "output_type": "execute_result"
    }
   ],
   "source": [
    "dfm.drop(['_id'], axis = 1 , inplace = True)\n",
    "dfm[:3]"
   ]
  },
  {
   "cell_type": "markdown",
   "id": "mobile-night",
   "metadata": {},
   "source": [
    "#### 2.\"Tokenizacion\""
   ]
  },
  {
   "cell_type": "code",
   "execution_count": 36,
   "id": "prepared-branch",
   "metadata": {},
   "outputs": [
    {
     "data": {
      "text/html": [
       "<div>\n",
       "<style scoped>\n",
       "    .dataframe tbody tr th:only-of-type {\n",
       "        vertical-align: middle;\n",
       "    }\n",
       "\n",
       "    .dataframe tbody tr th {\n",
       "        vertical-align: top;\n",
       "    }\n",
       "\n",
       "    .dataframe thead th {\n",
       "        text-align: right;\n",
       "    }\n",
       "</style>\n",
       "<table border=\"1\" class=\"dataframe\">\n",
       "  <thead>\n",
       "    <tr style=\"text-align: right;\">\n",
       "      <th></th>\n",
       "      <th>name</th>\n",
       "      <th>phrase</th>\n",
       "      <th>season</th>\n",
       "      <th>chapter</th>\n",
       "    </tr>\n",
       "  </thead>\n",
       "  <tbody>\n",
       "    <tr>\n",
       "      <th>0</th>\n",
       "      <td>Josie</td>\n",
       "      <td>[Cómo, te, crees, que, he, llegado, a, los, 40...</td>\n",
       "      <td>MasterChef Celebrity 5</td>\n",
       "      <td>3</td>\n",
       "    </tr>\n",
       "    <tr>\n",
       "      <th>1</th>\n",
       "      <td>Osiris</td>\n",
       "      <td>[Mira, que, rico, el, chocolate, negro, mami]</td>\n",
       "      <td>MasterChef 7</td>\n",
       "      <td>4</td>\n",
       "    </tr>\n",
       "    <tr>\n",
       "      <th>2</th>\n",
       "      <td>Josie</td>\n",
       "      <td>[Me, impone, la, salchicha, si, te, digo, la, ...</td>\n",
       "      <td>MasterChef Celebrity 5</td>\n",
       "      <td>3</td>\n",
       "    </tr>\n",
       "  </tbody>\n",
       "</table>\n",
       "</div>"
      ],
      "text/plain": [
       "     name                                             phrase  \\\n",
       "0   Josie  [Cómo, te, crees, que, he, llegado, a, los, 40...   \n",
       "1  Osiris      [Mira, que, rico, el, chocolate, negro, mami]   \n",
       "2   Josie  [Me, impone, la, salchicha, si, te, digo, la, ...   \n",
       "\n",
       "                   season chapter  \n",
       "0  MasterChef Celebrity 5       3  \n",
       "1            MasterChef 7       4  \n",
       "2  MasterChef Celebrity 5       3  "
      ]
     },
     "execution_count": 36,
     "metadata": {},
     "output_type": "execute_result"
    }
   ],
   "source": [
    "dfm['phrase'] = dfm['phrase'].apply(tokenize)\n",
    "dfm[:3]"
   ]
  },
  {
   "cell_type": "code",
   "execution_count": 37,
   "id": "hidden-pillow",
   "metadata": {},
   "outputs": [
    {
     "data": {
      "text/html": [
       "<div>\n",
       "<style scoped>\n",
       "    .dataframe tbody tr th:only-of-type {\n",
       "        vertical-align: middle;\n",
       "    }\n",
       "\n",
       "    .dataframe tbody tr th {\n",
       "        vertical-align: top;\n",
       "    }\n",
       "\n",
       "    .dataframe thead th {\n",
       "        text-align: right;\n",
       "    }\n",
       "</style>\n",
       "<table border=\"1\" class=\"dataframe\">\n",
       "  <thead>\n",
       "    <tr style=\"text-align: right;\">\n",
       "      <th></th>\n",
       "      <th>name</th>\n",
       "      <th>phrase</th>\n",
       "      <th>season</th>\n",
       "      <th>chapter</th>\n",
       "    </tr>\n",
       "  </thead>\n",
       "  <tbody>\n",
       "    <tr>\n",
       "      <th>0</th>\n",
       "      <td>Josie</td>\n",
       "      <td>Cómo te crees que he llegado a los 40 con la c...</td>\n",
       "      <td>MasterChef Celebrity 5</td>\n",
       "      <td>3</td>\n",
       "    </tr>\n",
       "    <tr>\n",
       "      <th>1</th>\n",
       "      <td>Osiris</td>\n",
       "      <td>Mira que rico el chocolate negro mami</td>\n",
       "      <td>MasterChef 7</td>\n",
       "      <td>4</td>\n",
       "    </tr>\n",
       "    <tr>\n",
       "      <th>2</th>\n",
       "      <td>Josie</td>\n",
       "      <td>Me impone la salchicha si te digo la verdad</td>\n",
       "      <td>MasterChef Celebrity 5</td>\n",
       "      <td>3</td>\n",
       "    </tr>\n",
       "  </tbody>\n",
       "</table>\n",
       "</div>"
      ],
      "text/plain": [
       "     name                                             phrase  \\\n",
       "0   Josie  Cómo te crees que he llegado a los 40 con la c...   \n",
       "1  Osiris              Mira que rico el chocolate negro mami   \n",
       "2   Josie        Me impone la salchicha si te digo la verdad   \n",
       "\n",
       "                   season chapter  \n",
       "0  MasterChef Celebrity 5       3  \n",
       "1            MasterChef 7       4  \n",
       "2  MasterChef Celebrity 5       3  "
      ]
     },
     "execution_count": 37,
     "metadata": {},
     "output_type": "execute_result"
    }
   ],
   "source": [
    "dfm['phrase'] = dfm['phrase'].apply(lambda x: \" \".join(x))\n",
    "dfm[:3]"
   ]
  },
  {
   "cell_type": "markdown",
   "id": "fewer-value",
   "metadata": {},
   "source": [
    "#### 3.Traducion "
   ]
  },
  {
   "cell_type": "code",
   "execution_count": 38,
   "id": "loving-cambridge",
   "metadata": {},
   "outputs": [
    {
     "data": {
      "text/html": [
       "<div>\n",
       "<style scoped>\n",
       "    .dataframe tbody tr th:only-of-type {\n",
       "        vertical-align: middle;\n",
       "    }\n",
       "\n",
       "    .dataframe tbody tr th {\n",
       "        vertical-align: top;\n",
       "    }\n",
       "\n",
       "    .dataframe thead th {\n",
       "        text-align: right;\n",
       "    }\n",
       "</style>\n",
       "<table border=\"1\" class=\"dataframe\">\n",
       "  <thead>\n",
       "    <tr style=\"text-align: right;\">\n",
       "      <th></th>\n",
       "      <th>name</th>\n",
       "      <th>phrase</th>\n",
       "      <th>season</th>\n",
       "      <th>chapter</th>\n",
       "    </tr>\n",
       "  </thead>\n",
       "  <tbody>\n",
       "    <tr>\n",
       "      <th>0</th>\n",
       "      <td>Josie</td>\n",
       "      <td>How do you think I have reached 40 with Elizab...</td>\n",
       "      <td>MasterChef Celebrity 5</td>\n",
       "      <td>3</td>\n",
       "    </tr>\n",
       "    <tr>\n",
       "      <th>1</th>\n",
       "      <td>Osiris</td>\n",
       "      <td>Look how rich the dark chocolate mommy</td>\n",
       "      <td>MasterChef 7</td>\n",
       "      <td>4</td>\n",
       "    </tr>\n",
       "    <tr>\n",
       "      <th>2</th>\n",
       "      <td>Josie</td>\n",
       "      <td>Impose the sausage if I tell you the truth</td>\n",
       "      <td>MasterChef Celebrity 5</td>\n",
       "      <td>3</td>\n",
       "    </tr>\n",
       "  </tbody>\n",
       "</table>\n",
       "</div>"
      ],
      "text/plain": [
       "     name                                             phrase  \\\n",
       "0   Josie  How do you think I have reached 40 with Elizab...   \n",
       "1  Osiris             Look how rich the dark chocolate mommy   \n",
       "2   Josie         Impose the sausage if I tell you the truth   \n",
       "\n",
       "                   season chapter  \n",
       "0  MasterChef Celebrity 5       3  \n",
       "1            MasterChef 7       4  \n",
       "2  MasterChef Celebrity 5       3  "
      ]
     },
     "execution_count": 38,
     "metadata": {},
     "output_type": "execute_result"
    }
   ],
   "source": [
    "dfm['phrase'] = dfm.phrase.apply(intoEnglish)\n",
    "dfm[:3]"
   ]
  },
  {
   "cell_type": "markdown",
   "id": "unavailable-berkeley",
   "metadata": {},
   "source": [
    "#### 4. \"Stopwords\" Discriminacion de palabras "
   ]
  },
  {
   "cell_type": "code",
   "execution_count": 39,
   "id": "driving-commander",
   "metadata": {},
   "outputs": [
    {
     "data": {
      "text/html": [
       "<div>\n",
       "<style scoped>\n",
       "    .dataframe tbody tr th:only-of-type {\n",
       "        vertical-align: middle;\n",
       "    }\n",
       "\n",
       "    .dataframe tbody tr th {\n",
       "        vertical-align: top;\n",
       "    }\n",
       "\n",
       "    .dataframe thead th {\n",
       "        text-align: right;\n",
       "    }\n",
       "</style>\n",
       "<table border=\"1\" class=\"dataframe\">\n",
       "  <thead>\n",
       "    <tr style=\"text-align: right;\">\n",
       "      <th></th>\n",
       "      <th>name</th>\n",
       "      <th>phrase</th>\n",
       "      <th>season</th>\n",
       "      <th>chapter</th>\n",
       "    </tr>\n",
       "  </thead>\n",
       "  <tbody>\n",
       "    <tr>\n",
       "      <th>0</th>\n",
       "      <td>Josie</td>\n",
       "      <td>[How, do, you, think, I, have, reached, 40, wi...</td>\n",
       "      <td>MasterChef Celebrity 5</td>\n",
       "      <td>3</td>\n",
       "    </tr>\n",
       "    <tr>\n",
       "      <th>1</th>\n",
       "      <td>Osiris</td>\n",
       "      <td>[Look, how, rich, the, dark, chocolate, mommy]</td>\n",
       "      <td>MasterChef 7</td>\n",
       "      <td>4</td>\n",
       "    </tr>\n",
       "    <tr>\n",
       "      <th>2</th>\n",
       "      <td>Josie</td>\n",
       "      <td>[Impose, the, sausage, if, I, tell, you, the, ...</td>\n",
       "      <td>MasterChef Celebrity 5</td>\n",
       "      <td>3</td>\n",
       "    </tr>\n",
       "  </tbody>\n",
       "</table>\n",
       "</div>"
      ],
      "text/plain": [
       "     name                                             phrase  \\\n",
       "0   Josie  [How, do, you, think, I, have, reached, 40, wi...   \n",
       "1  Osiris     [Look, how, rich, the, dark, chocolate, mommy]   \n",
       "2   Josie  [Impose, the, sausage, if, I, tell, you, the, ...   \n",
       "\n",
       "                   season chapter  \n",
       "0  MasterChef Celebrity 5       3  \n",
       "1            MasterChef 7       4  \n",
       "2  MasterChef Celebrity 5       3  "
      ]
     },
     "execution_count": 39,
     "metadata": {},
     "output_type": "execute_result"
    }
   ],
   "source": [
    "dfm.phrase = dfm.phrase.apply(lambda x: x.split(\" \"))\n",
    "dfm[:3]"
   ]
  },
  {
   "cell_type": "code",
   "execution_count": 40,
   "id": "engaged-definition",
   "metadata": {},
   "outputs": [
    {
     "data": {
      "text/html": [
       "<div>\n",
       "<style scoped>\n",
       "    .dataframe tbody tr th:only-of-type {\n",
       "        vertical-align: middle;\n",
       "    }\n",
       "\n",
       "    .dataframe tbody tr th {\n",
       "        vertical-align: top;\n",
       "    }\n",
       "\n",
       "    .dataframe thead th {\n",
       "        text-align: right;\n",
       "    }\n",
       "</style>\n",
       "<table border=\"1\" class=\"dataframe\">\n",
       "  <thead>\n",
       "    <tr style=\"text-align: right;\">\n",
       "      <th></th>\n",
       "      <th>name</th>\n",
       "      <th>phrase</th>\n",
       "      <th>season</th>\n",
       "      <th>chapter</th>\n",
       "    </tr>\n",
       "  </thead>\n",
       "  <tbody>\n",
       "    <tr>\n",
       "      <th>0</th>\n",
       "      <td>Josie</td>\n",
       "      <td>How think I reached 40 Elizabeth Taylor's waist</td>\n",
       "      <td>MasterChef Celebrity 5</td>\n",
       "      <td>3</td>\n",
       "    </tr>\n",
       "    <tr>\n",
       "      <th>1</th>\n",
       "      <td>Osiris</td>\n",
       "      <td>Look rich dark chocolate mommy</td>\n",
       "      <td>MasterChef 7</td>\n",
       "      <td>4</td>\n",
       "    </tr>\n",
       "    <tr>\n",
       "      <th>2</th>\n",
       "      <td>Josie</td>\n",
       "      <td>Impose sausage I tell truth</td>\n",
       "      <td>MasterChef Celebrity 5</td>\n",
       "      <td>3</td>\n",
       "    </tr>\n",
       "  </tbody>\n",
       "</table>\n",
       "</div>"
      ],
      "text/plain": [
       "     name                                           phrase  \\\n",
       "0   Josie  How think I reached 40 Elizabeth Taylor's waist   \n",
       "1  Osiris                   Look rich dark chocolate mommy   \n",
       "2   Josie                      Impose sausage I tell truth   \n",
       "\n",
       "                   season chapter  \n",
       "0  MasterChef Celebrity 5       3  \n",
       "1            MasterChef 7       4  \n",
       "2  MasterChef Celebrity 5       3  "
      ]
     },
     "execution_count": 40,
     "metadata": {},
     "output_type": "execute_result"
    }
   ],
   "source": [
    "dfm.phrase = dfm.phrase.apply(stop_words)\n",
    "dfm[:3]"
   ]
  },
  {
   "cell_type": "markdown",
   "id": "dependent-maine",
   "metadata": {},
   "source": [
    "#### 5. Analisi del sentimiento"
   ]
  },
  {
   "cell_type": "code",
   "execution_count": 41,
   "id": "understood-supervisor",
   "metadata": {},
   "outputs": [
    {
     "data": {
      "text/html": [
       "<div>\n",
       "<style scoped>\n",
       "    .dataframe tbody tr th:only-of-type {\n",
       "        vertical-align: middle;\n",
       "    }\n",
       "\n",
       "    .dataframe tbody tr th {\n",
       "        vertical-align: top;\n",
       "    }\n",
       "\n",
       "    .dataframe thead th {\n",
       "        text-align: right;\n",
       "    }\n",
       "</style>\n",
       "<table border=\"1\" class=\"dataframe\">\n",
       "  <thead>\n",
       "    <tr style=\"text-align: right;\">\n",
       "      <th></th>\n",
       "      <th>name</th>\n",
       "      <th>phrase</th>\n",
       "      <th>season</th>\n",
       "      <th>chapter</th>\n",
       "      <th>Masterchef_sentiment</th>\n",
       "    </tr>\n",
       "  </thead>\n",
       "  <tbody>\n",
       "    <tr>\n",
       "      <th>0</th>\n",
       "      <td>Josie</td>\n",
       "      <td>How think I reached 40 Elizabeth Taylor's waist</td>\n",
       "      <td>MasterChef Celebrity 5</td>\n",
       "      <td>3</td>\n",
       "      <td>0.1027</td>\n",
       "    </tr>\n",
       "    <tr>\n",
       "      <th>1</th>\n",
       "      <td>Osiris</td>\n",
       "      <td>Look rich dark chocolate mommy</td>\n",
       "      <td>MasterChef 7</td>\n",
       "      <td>4</td>\n",
       "      <td>0.5574</td>\n",
       "    </tr>\n",
       "    <tr>\n",
       "      <th>2</th>\n",
       "      <td>Josie</td>\n",
       "      <td>Impose sausage I tell truth</td>\n",
       "      <td>MasterChef Celebrity 5</td>\n",
       "      <td>3</td>\n",
       "      <td>0.0258</td>\n",
       "    </tr>\n",
       "  </tbody>\n",
       "</table>\n",
       "</div>"
      ],
      "text/plain": [
       "     name                                           phrase  \\\n",
       "0   Josie  How think I reached 40 Elizabeth Taylor's waist   \n",
       "1  Osiris                   Look rich dark chocolate mommy   \n",
       "2   Josie                      Impose sausage I tell truth   \n",
       "\n",
       "                   season chapter  Masterchef_sentiment  \n",
       "0  MasterChef Celebrity 5       3                0.1027  \n",
       "1            MasterChef 7       4                0.5574  \n",
       "2  MasterChef Celebrity 5       3                0.0258  "
      ]
     },
     "execution_count": 41,
     "metadata": {},
     "output_type": "execute_result"
    }
   ],
   "source": [
    "dfm['Masterchef_sentiment'] = dfm.phrase.apply(sentimentAnalysis)\n",
    "dfm[:3]"
   ]
  },
  {
   "cell_type": "code",
   "execution_count": null,
   "id": "understanding-oliver",
   "metadata": {},
   "outputs": [],
   "source": [
    "dfm.name.value_counts()"
   ]
  },
  {
   "cell_type": "code",
   "execution_count": 42,
   "id": "charged-disease",
   "metadata": {},
   "outputs": [
    {
     "data": {
      "text/plain": [
       "name\n",
       "Samira                    -0.771700\n",
       "Carlos                    -0.542300\n",
       "Golria                    -0.051600\n",
       "Aleix                      0.000000\n",
       "Valentin                   0.000000\n",
       "Josie                      0.069957\n",
       "Aitana                     0.148260\n",
       "Pepe Rodriguez             0.217975\n",
       "Henar                      0.226825\n",
       "Samantha Vallejo-Nagera    0.320467\n",
       "Jeancha                    0.356450\n",
       "Jordi Cruz                 0.412467\n",
       "Natalia                    0.557400\n",
       "Osiris                     0.557400\n",
       "Name: Masterchef_sentiment, dtype: float64"
      ]
     },
     "execution_count": 42,
     "metadata": {},
     "output_type": "execute_result"
    }
   ],
   "source": [
    "resumenm = dfm.groupby(['name'])['Masterchef_sentiment'].mean().sort_values()\n",
    "resumenm"
   ]
  },
  {
   "cell_type": "code",
   "execution_count": 43,
   "id": "naked-vintage",
   "metadata": {},
   "outputs": [
    {
     "data": {
      "text/plain": [
       "<AxesSubplot:xlabel='name'>"
      ]
     },
     "execution_count": 43,
     "metadata": {},
     "output_type": "execute_result"
    },
    {
     "data": {
      "image/png": "[encoded data removed]",
      "text/plain": [
       "<Figure size 432x288 with 1 Axes>"
      ]
     },
     "metadata": {
      "needs_background": "light"
     },
     "output_type": "display_data"
    }
   ],
   "source": [
    "resumenm.plot(kind=\"bar\")"
   ]
  },
  {
   "cell_type": "code",
   "execution_count": 44,
   "id": "diagnostic-philosophy",
   "metadata": {},
   "outputs": [
    {
     "data": {
      "text/html": [
       "<div>\n",
       "<style scoped>\n",
       "    .dataframe tbody tr th:only-of-type {\n",
       "        vertical-align: middle;\n",
       "    }\n",
       "\n",
       "    .dataframe tbody tr th {\n",
       "        vertical-align: top;\n",
       "    }\n",
       "\n",
       "    .dataframe thead th {\n",
       "        text-align: right;\n",
       "    }\n",
       "</style>\n",
       "<table border=\"1\" class=\"dataframe\">\n",
       "  <thead>\n",
       "    <tr style=\"text-align: right;\">\n",
       "      <th></th>\n",
       "      <th>twitter_sentiment</th>\n",
       "    </tr>\n",
       "    <tr>\n",
       "      <th>name</th>\n",
       "      <th></th>\n",
       "    </tr>\n",
       "  </thead>\n",
       "  <tbody>\n",
       "    <tr>\n",
       "      <th>Samantha Vallejo-Nagera</th>\n",
       "      <td>0.161600</td>\n",
       "    </tr>\n",
       "    <tr>\n",
       "      <th>Valentin</th>\n",
       "      <td>0.226833</td>\n",
       "    </tr>\n",
       "    <tr>\n",
       "      <th>Josie</th>\n",
       "      <td>0.245033</td>\n",
       "    </tr>\n",
       "    <tr>\n",
       "      <th>Henar</th>\n",
       "      <td>0.361880</td>\n",
       "    </tr>\n",
       "    <tr>\n",
       "      <th>Jordi Cruz</th>\n",
       "      <td>0.601767</td>\n",
       "    </tr>\n",
       "    <tr>\n",
       "      <th>Jeancha</th>\n",
       "      <td>0.680800</td>\n",
       "    </tr>\n",
       "    <tr>\n",
       "      <th>Pepe Rodriguez</th>\n",
       "      <td>0.734433</td>\n",
       "    </tr>\n",
       "  </tbody>\n",
       "</table>\n",
       "</div>"
      ],
      "text/plain": [
       "                         twitter_sentiment\n",
       "name                                      \n",
       "Samantha Vallejo-Nagera           0.161600\n",
       "Valentin                          0.226833\n",
       "Josie                             0.245033\n",
       "Henar                             0.361880\n",
       "Jordi Cruz                        0.601767\n",
       "Jeancha                           0.680800\n",
       "Pepe Rodriguez                    0.734433"
      ]
     },
     "execution_count": 44,
     "metadata": {},
     "output_type": "execute_result"
    }
   ],
   "source": [
    "analisis_tuitter = pd.DataFrame(resumen)\n",
    "analisis_tuitter"
   ]
  },
  {
   "cell_type": "code",
   "execution_count": 46,
   "id": "united-velvet",
   "metadata": {},
   "outputs": [
    {
     "data": {
      "text/html": [
       "<div>\n",
       "<style scoped>\n",
       "    .dataframe tbody tr th:only-of-type {\n",
       "        vertical-align: middle;\n",
       "    }\n",
       "\n",
       "    .dataframe tbody tr th {\n",
       "        vertical-align: top;\n",
       "    }\n",
       "\n",
       "    .dataframe thead th {\n",
       "        text-align: right;\n",
       "    }\n",
       "</style>\n",
       "<table border=\"1\" class=\"dataframe\">\n",
       "  <thead>\n",
       "    <tr style=\"text-align: right;\">\n",
       "      <th></th>\n",
       "      <th>Masterchef_sentiment</th>\n",
       "    </tr>\n",
       "    <tr>\n",
       "      <th>name</th>\n",
       "      <th></th>\n",
       "    </tr>\n",
       "  </thead>\n",
       "  <tbody>\n",
       "    <tr>\n",
       "      <th>Samira</th>\n",
       "      <td>-0.771700</td>\n",
       "    </tr>\n",
       "    <tr>\n",
       "      <th>Carlos</th>\n",
       "      <td>-0.542300</td>\n",
       "    </tr>\n",
       "    <tr>\n",
       "      <th>Golria</th>\n",
       "      <td>-0.051600</td>\n",
       "    </tr>\n",
       "    <tr>\n",
       "      <th>Aleix</th>\n",
       "      <td>0.000000</td>\n",
       "    </tr>\n",
       "    <tr>\n",
       "      <th>Valentin</th>\n",
       "      <td>0.000000</td>\n",
       "    </tr>\n",
       "    <tr>\n",
       "      <th>Josie</th>\n",
       "      <td>0.069957</td>\n",
       "    </tr>\n",
       "    <tr>\n",
       "      <th>Aitana</th>\n",
       "      <td>0.148260</td>\n",
       "    </tr>\n",
       "    <tr>\n",
       "      <th>Pepe Rodriguez</th>\n",
       "      <td>0.217975</td>\n",
       "    </tr>\n",
       "    <tr>\n",
       "      <th>Henar</th>\n",
       "      <td>0.226825</td>\n",
       "    </tr>\n",
       "    <tr>\n",
       "      <th>Samantha Vallejo-Nagera</th>\n",
       "      <td>0.320467</td>\n",
       "    </tr>\n",
       "    <tr>\n",
       "      <th>Jeancha</th>\n",
       "      <td>0.356450</td>\n",
       "    </tr>\n",
       "    <tr>\n",
       "      <th>Jordi Cruz</th>\n",
       "      <td>0.412467</td>\n",
       "    </tr>\n",
       "    <tr>\n",
       "      <th>Natalia</th>\n",
       "      <td>0.557400</td>\n",
       "    </tr>\n",
       "    <tr>\n",
       "      <th>Osiris</th>\n",
       "      <td>0.557400</td>\n",
       "    </tr>\n",
       "  </tbody>\n",
       "</table>\n",
       "</div>"
      ],
      "text/plain": [
       "                         Masterchef_sentiment\n",
       "name                                         \n",
       "Samira                              -0.771700\n",
       "Carlos                              -0.542300\n",
       "Golria                              -0.051600\n",
       "Aleix                                0.000000\n",
       "Valentin                             0.000000\n",
       "Josie                                0.069957\n",
       "Aitana                               0.148260\n",
       "Pepe Rodriguez                       0.217975\n",
       "Henar                                0.226825\n",
       "Samantha Vallejo-Nagera              0.320467\n",
       "Jeancha                              0.356450\n",
       "Jordi Cruz                           0.412467\n",
       "Natalia                              0.557400\n",
       "Osiris                               0.557400"
      ]
     },
     "execution_count": 46,
     "metadata": {},
     "output_type": "execute_result"
    }
   ],
   "source": [
    "analisis_programas = pd.DataFrame(resumenm)\n",
    "analisis_programas"
   ]
  },
  {
   "cell_type": "code",
   "execution_count": 48,
   "id": "ignored-broadway",
   "metadata": {},
   "outputs": [
    {
     "data": {
      "text/html": [
       "<div>\n",
       "<style scoped>\n",
       "    .dataframe tbody tr th:only-of-type {\n",
       "        vertical-align: middle;\n",
       "    }\n",
       "\n",
       "    .dataframe tbody tr th {\n",
       "        vertical-align: top;\n",
       "    }\n",
       "\n",
       "    .dataframe thead th {\n",
       "        text-align: right;\n",
       "    }\n",
       "</style>\n",
       "<table border=\"1\" class=\"dataframe\">\n",
       "  <thead>\n",
       "    <tr style=\"text-align: right;\">\n",
       "      <th></th>\n",
       "      <th>twitter_sentiment</th>\n",
       "      <th>Masterchef_sentiment</th>\n",
       "    </tr>\n",
       "    <tr>\n",
       "      <th>name</th>\n",
       "      <th></th>\n",
       "      <th></th>\n",
       "    </tr>\n",
       "  </thead>\n",
       "  <tbody>\n",
       "    <tr>\n",
       "      <th>Samantha Vallejo-Nagera</th>\n",
       "      <td>0.161600</td>\n",
       "      <td>0.320467</td>\n",
       "    </tr>\n",
       "    <tr>\n",
       "      <th>Valentin</th>\n",
       "      <td>0.226833</td>\n",
       "      <td>0.000000</td>\n",
       "    </tr>\n",
       "    <tr>\n",
       "      <th>Josie</th>\n",
       "      <td>0.245033</td>\n",
       "      <td>0.069957</td>\n",
       "    </tr>\n",
       "    <tr>\n",
       "      <th>Henar</th>\n",
       "      <td>0.361880</td>\n",
       "      <td>0.226825</td>\n",
       "    </tr>\n",
       "    <tr>\n",
       "      <th>Jordi Cruz</th>\n",
       "      <td>0.601767</td>\n",
       "      <td>0.412467</td>\n",
       "    </tr>\n",
       "    <tr>\n",
       "      <th>Jeancha</th>\n",
       "      <td>0.680800</td>\n",
       "      <td>0.356450</td>\n",
       "    </tr>\n",
       "    <tr>\n",
       "      <th>Pepe Rodriguez</th>\n",
       "      <td>0.734433</td>\n",
       "      <td>0.217975</td>\n",
       "    </tr>\n",
       "    <tr>\n",
       "      <th>Samira</th>\n",
       "      <td>NaN</td>\n",
       "      <td>-0.771700</td>\n",
       "    </tr>\n",
       "    <tr>\n",
       "      <th>Carlos</th>\n",
       "      <td>NaN</td>\n",
       "      <td>-0.542300</td>\n",
       "    </tr>\n",
       "    <tr>\n",
       "      <th>Golria</th>\n",
       "      <td>NaN</td>\n",
       "      <td>-0.051600</td>\n",
       "    </tr>\n",
       "    <tr>\n",
       "      <th>Aleix</th>\n",
       "      <td>NaN</td>\n",
       "      <td>0.000000</td>\n",
       "    </tr>\n",
       "    <tr>\n",
       "      <th>Aitana</th>\n",
       "      <td>NaN</td>\n",
       "      <td>0.148260</td>\n",
       "    </tr>\n",
       "    <tr>\n",
       "      <th>Natalia</th>\n",
       "      <td>NaN</td>\n",
       "      <td>0.557400</td>\n",
       "    </tr>\n",
       "    <tr>\n",
       "      <th>Osiris</th>\n",
       "      <td>NaN</td>\n",
       "      <td>0.557400</td>\n",
       "    </tr>\n",
       "  </tbody>\n",
       "</table>\n",
       "</div>"
      ],
      "text/plain": [
       "                         twitter_sentiment  Masterchef_sentiment\n",
       "name                                                            \n",
       "Samantha Vallejo-Nagera           0.161600              0.320467\n",
       "Valentin                          0.226833              0.000000\n",
       "Josie                             0.245033              0.069957\n",
       "Henar                             0.361880              0.226825\n",
       "Jordi Cruz                        0.601767              0.412467\n",
       "Jeancha                           0.680800              0.356450\n",
       "Pepe Rodriguez                    0.734433              0.217975\n",
       "Samira                                 NaN             -0.771700\n",
       "Carlos                                 NaN             -0.542300\n",
       "Golria                                 NaN             -0.051600\n",
       "Aleix                                  NaN              0.000000\n",
       "Aitana                                 NaN              0.148260\n",
       "Natalia                                NaN              0.557400\n",
       "Osiris                                 NaN              0.557400"
      ]
     },
     "execution_count": 48,
     "metadata": {},
     "output_type": "execute_result"
    }
   ],
   "source": [
    "alanisis = pd.concat([analisis_tuitter,analisis_programas],axis=1)\n",
    "alanisis"
   ]
  }
 ],
 "metadata": {
  "kernelspec": {
   "display_name": "Python 3",
   "language": "python",
   "name": "python3"
  },
  "language_info": {
   "codemirror_mode": {
    "name": "ipython",
    "version": 3
   },
   "file_extension": ".py",
   "mimetype": "text/x-python",
   "name": "python",
   "nbconvert_exporter": "python",
   "pygments_lexer": "ipython3",
   "version": "3.9.1"
  },
  "varInspector": {
   "cols": {
    "lenName": 16,
    "lenType": 16,
    "lenVar": 40
   },
   "kernels_config": {
    "python": {
     "delete_cmd_postfix": "",
     "delete_cmd_prefix": "del ",
     "library": "var_list.py",
     "varRefreshCmd": "print(var_dic_list())"
    },
    "r": {
     "delete_cmd_postfix": ") ",
     "delete_cmd_prefix": "rm(",
     "library": "var_list.r",
     "varRefreshCmd": "cat(var_dic_list()) "
    }
   },
   "types_to_exclude": [
    "module",
    "function",
    "builtin_function_or_method",
    "instance",
    "_Feature"
   ],
   "window_display": false
  }
 },
 "nbformat": 4,
 "nbformat_minor": 5
}
